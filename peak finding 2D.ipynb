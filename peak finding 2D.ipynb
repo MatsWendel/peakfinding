{
 "cells": [
  {
   "cell_type": "markdown",
   "id": "2b4b1b63-e0f2-42a0-9a8a-ade39c8cc86f",
   "metadata": {},
   "source": [
    "Bei unserer Recherche sind wir leider nur auf effiziente Peak-finding Algorithmen gestoßen, die nur einen beliebigen Peak finden. Weitere Recherche hat ergeben, dass sich das Problem nicht effizienter lösen lässt als es zu brute-forcen. Da wir dazu allerdings online keinen geeigneten Code für unser Problem gefunden, haben wir uns dazu entschlossen, diesen selber zu schreiben.\n",
    "\n",
    "Unser Algorithmus funktioniert so, dass jede Stelle in der Matrix betrachtet wird und für diese dann jeweils entschieden wird, ob es sich um einen Peak handelt oder nicht. Handelt es sich um einen Peak, wird dieser in einem Array gespeichert, welches am ende als Ergebnis auf der Konsole ausgegeben wird.\n",
    "\n",
    "Natürlich müssen dabei einige Sonderfälle beachtet werden und zwar immer dann, wenn sich die betrachtete Stelle an einem Rand der Matrix befindet. Daher haben wir den Algorithmus wie folgt aufgebaut:\n",
    "\n",
    "Am Anfang der Funktion wird das Array initialisiert, in das nachher die Peaks gespeichert werden.\n",
    "\n",
    "Dann wird mithilfe von zwei verschachtelten Schleifen das 2D Array durchlaufen.\n",
    "\n",
    "An diesem Punkt haben wir uns dazu entschieden, den Wahrheitswert \"is a peak\" in die Wahrheitswerte \"is a horizontal peak\" und \"is a vertical peak\" aufzuteilen. Auf diese Weise müssen die folgenden Abfragen nicht so stark verschachtelt werden und der Code wird übersichtlicher und leichter zu verstehen.\n",
    "\n",
    "Im ersten Abschnitt, in dem geschaut wird, ob es sich um einen horizontalen Peak handelt, wird zu aller erst geschaut, ob sich der betrachtete Wert ganz rechts oder ganz links in der Matrix befindet. Ist das der Fall, wird geschaut, ob er sich ganz links befindet. Ist das der Fall, wird nur der rechte Nachbar verglichen.\n",
    "\n",
    "Befindet er sich ganz rechts, wird analog nur der linke Nachbar verglichen.\n",
    "\n",
    "Befindet sich der Wert nicht ganz rechts oder ganz links, werden natürlich beide Nachbarn verglichen.\n",
    "\n",
    "Auf diesen Abschnitt folgt eine Abfrage, ob es sich bei dem Wert um einen horizontalen Wert handelt und nur wenn das der Fall ist, wird geschaut, ob es sich auch um einen vertikalen Peak handelt. Die Abfrage dazu funktioniert analog zu der Horizontalen.\n",
    "\n",
    "Ist das erledigt, wird nur noch abgefragt, ob beide Werte True sind. Ist das der Fall, wird der wert in das Lösungsarray geschrieben und es wird der nächste Wert betrachtet.\n",
    "\n",
    "Unser Algorithmus hat dabei einen Aufwand von O(n^2), womit wir uns zwar am unteren Ende es in der Aufgabenstellung angesprochenen Spektrums. Durchlaufen, dafür aber tatsächlich jedes Element des Arrays und bekommen so zuverlässig jeden Peak zurückgegeben."
   ]
  },
  {
   "cell_type": "markdown",
   "id": "f0bfed7a-726f-45b2-8212-e8191588ecaa",
   "metadata": {},
   "source": [
    "<img src=\"ezgif.com-gif-maker.gif\" width=\"400\" height=\"400\" />"
   ]
  },
  {
   "cell_type": "code",
   "execution_count": 3,
   "id": "1f81ded9-c47a-4532-b456-dcefb8ba55e6",
   "metadata": {},
   "outputs": [
    {
     "name": "stdout",
     "output_type": "stream",
     "text": [
      "Peaks:\n",
      "28\n",
      "30\n",
      "160\n"
     ]
    }
   ],
   "source": [
    "def findPeaks(_array):\n",
    "    #Array in de alle Peaks gespeichert werden.\n",
    "    peaks = []\n",
    "    #durchlaufen des gesamten 2D Arrays.\n",
    "    for i in range(len(_array)):\n",
    "        for j in range(len(_array[i])):\n",
    "            #Speichern des aktuellen Wertes in einer Variable\n",
    "            akt = _array[i][j]\n",
    "            #initialisieren von vertPeak und und horPeak und beide auf False setzen\n",
    "            vertPeak = False\n",
    "            horPeak = False\n",
    "            #Wenn der aktuelle Wert sich ganz rechts oder ganz links befindet\n",
    "            if j == 0 or j == len(_array[0])-1:\n",
    "                #wenn der betrachtete Wert im Array am linken Rand ist\n",
    "                if j == 0:\n",
    "                    #wenn der betrachtete Wert ein horizontaler Peak ist\n",
    "                    if _array[i][j] > _array[i][j+1]:\n",
    "                        #horPeak auf True setzen\n",
    "                        horPeak = True\n",
    "                #wenn sich der aktuelle Wert ganz rechts befindet\n",
    "                elif j == len(_array[0])-1:\n",
    "                    #wenn der Wert ein horPeak ist\n",
    "                    if _array[i][j] > _array[i][j-1]:\n",
    "                        #horPeak auf True setzen\n",
    "                        horPeak = True\n",
    "            #Wenn sich der aktuelle Wert nicht an einem horizontalen Rand befindet\n",
    "            else:\n",
    "                #Wenn der aktuelle Wert ein horPeak ist\n",
    "                if _array[i][j] > _array[i][j+1] & _array[i][j] > _array[i][j-1]:\n",
    "                    #horPeak auf True setzen\n",
    "                    horPeak = True\n",
    "            #Wenn der aktuelle Wert ein horPeak ist\n",
    "            if horPeak == True:\n",
    "                #wenn der Wert sich am oberen oder am unteren rand befindet\n",
    "                if i == 0 or i == len(_array)-1:\n",
    "                    #Wenn sich der der Wert ganz oben befindet\n",
    "                    if i == 0:\n",
    "                        #Wenn der Wert ein VertPeak ist\n",
    "                        if _array[i][j] > _array[i+1][j]:\n",
    "                            #vertpeak auf True setzen\n",
    "                            vertPeak = True\n",
    "                    #Wenn der Wert ganz unten befindet\n",
    "                    elif i == len(_array)-1:\n",
    "                        #wenn der Wert ein vertPeak ist\n",
    "                        if _array[i][j] > _array[i-1][j]:\n",
    "                            #vertPeak auf True setzen\n",
    "                            vertPeak = True\n",
    "                #Wenn sich der Wert nicht ganz oben oder ganz unten befindet\n",
    "                else:\n",
    "                    #gucken, ob es sich um einen vertPeak handelt\n",
    "                    if (_array[i][j] > _array[i+1][j]) & (_array[i][j] > _array[i-1][j]):\n",
    "                        #vertPeak auf True setzen\n",
    "                        vertPeak = True\n",
    "                #Wenn es sich bei dem betrachteten Wert um einen horizontalen und vertikalen Peak handelt\n",
    "                if horPeak == True & vertPeak == True:\n",
    "                    #den aktuellen Wert zum Array der peaks hinzufügen\n",
    "                    peaks.append(akt)\n",
    "\n",
    "    #Alle peaks auf der Konsole ausgeben\n",
    "    print('Peaks:')\n",
    "    for x in peaks:\n",
    "        print(x)\n",
    "\n",
    "#driver code\n",
    "arr = [[10, 28, 22, 10],\n",
    "       [9, 13, 12, 27],\n",
    "       [15, 9, 24, 30],\n",
    "       [160, 17, 19, 20]]\n",
    "#function call\n",
    "findPeaks(arr)"
   ]
  },
  {
   "cell_type": "code",
   "execution_count": null,
   "id": "b2c030dc-f5c8-49d2-ad09-861ca0c008d2",
   "metadata": {},
   "outputs": [],
   "source": []
  }
 ],
 "metadata": {
  "kernelspec": {
   "display_name": "Python 3",
   "language": "python",
   "name": "python3"
  },
  "language_info": {
   "codemirror_mode": {
    "name": "ipython",
    "version": 3
   },
   "file_extension": ".py",
   "mimetype": "text/x-python",
   "name": "python",
   "nbconvert_exporter": "python",
   "pygments_lexer": "ipython3",
   "version": "3.8.8"
  }
 },
 "nbformat": 4,
 "nbformat_minor": 5
}
